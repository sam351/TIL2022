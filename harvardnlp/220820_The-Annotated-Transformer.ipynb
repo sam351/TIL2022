{
  "nbformat": 4,
  "nbformat_minor": 0,
  "metadata": {
    "colab": {
      "name": "220820_The-Annotated-Transformer",
      "provenance": [],
      "collapsed_sections": []
    },
    "kernelspec": {
      "name": "python3",
      "display_name": "Python 3"
    },
    "language_info": {
      "name": "python"
    }
  },
  "cells": [
    {
      "cell_type": "markdown",
      "source": [
        "(ref : https://nlp.seas.harvard.edu/2018/04/03/attention.html)\n",
        "<br><br>\n",
        "## Table of Contents\n",
        "- [Model Architecture](#scrollTo=7THo9Qx9nVPw)\n",
        "  - Encoder and Decoder Stacks\n",
        "    - Encoder\n",
        "    - Decoder\n",
        "    - Attention\n",
        "    - Applications of Attention in our Model\n",
        "  - Position-wise Feed-Forward Networks\n",
        "  - Embeddings and Softmax\n",
        "  - Positional Encoding\n",
        "  - Full Model\n",
        "\n",
        "- [Training](#scrollTo=99wO8gdYnX1G)\n",
        "  - Batches and Masking\n",
        "  - Training Loop\n",
        "  - Training Data and Batching\n",
        "  - Hardware and Schedule\n",
        "  - Optimizer\n",
        "  - Regularization\n",
        "    - Label Smoothing\n"
      ],
      "metadata": {
        "id": "OCXuQtk-lXC0"
      }
    },
    {
      "cell_type": "code",
      "source": [
        "import numpy as np\n",
        "import torch\n",
        "import torch.nn as nn\n",
        "import torch.nn.functional as F\n",
        "import math, copy, time\n",
        "from torch.autograd import Variable\n",
        "import matplotlib.pyplot as plt\n",
        "import seaborn\n",
        "seaborn.set_context(context='talk')"
      ],
      "metadata": {
        "id": "n4OBycJzlhen"
      },
      "execution_count": 2,
      "outputs": []
    },
    {
      "cell_type": "markdown",
      "source": [
        "( [Table of Contents](#scrollTo=OCXuQtk-lXC0)\\ )\n",
        "## Model Architecture"
      ],
      "metadata": {
        "id": "7THo9Qx9nVPw"
      }
    },
    {
      "cell_type": "markdown",
      "source": [
        "![ModalNet-21.png](https://nlp.seas.harvard.edu/images/the-annotated-transformer_14_0.png)"
      ],
      "metadata": {
        "id": "uq4lkf3JwtxU"
      }
    },
    {
      "cell_type": "code",
      "source": [
        "class EncoderDecoder(nn.Module):\n",
        "    \"\"\"\n",
        "    A standard Encoder-Decoder architecture. Base for this and many other models.\n",
        "    \"\"\"\n",
        "    def __init__(self, encoder, decoder, src_embed, tgt_embed, generator) -> None:\n",
        "        super(EncoderDecoder, self).__init__()\n",
        "        self.encoder = encoder\n",
        "        self.decoder = decoder\n",
        "        self.src_embed = src_embed\n",
        "        self.tgt_embed = tgt_embed\n",
        "        self.generator = generator\n",
        "    \n",
        "    def forward(self, src, tgt, src_mask, tgt_mask):\n",
        "        \"Take in and process masked src and target sequences.\"\n",
        "        memory = self.encode(src, src_mask)\n",
        "        out = self.decode(memory, tgt, src_mask, tgt_mask)\n",
        "        return out\n",
        "    \n",
        "    def encode(self, src, src_mask):\n",
        "        src_embeded = self.src_embed(src)\n",
        "        memory = self.encoder(src_embeded, src_mask)\n",
        "        return memory\n",
        "    \n",
        "    def decode(self, memory, tgt, src_mask, tgt_mask):\n",
        "        tgt_embeded = self.tgt_embed(tgt)\n",
        "        out = self.decoder(tgt_embeded, memory, src_mask, tgt_mask)\n",
        "        return out\n",
        "\n",
        "\n",
        "class Generator(nn.Module):\n",
        "    \"Define standard linear + softmax generation step.\"\n",
        "    def __init__(self, d_model, vocab) -> None:\n",
        "        super(Generator, self).__init__()\n",
        "        self.proj = nn.Linear(d_model, vocab)\n",
        "    \n",
        "    def forward(self, x):\n",
        "        return F.log_softmax(self.proj(x), dim=-1)"
      ],
      "metadata": {
        "id": "h7rkzxhutXdW"
      },
      "execution_count": null,
      "outputs": []
    },
    {
      "cell_type": "markdown",
      "source": [
        "### Encoder and Decoder Stacks"
      ],
      "metadata": {
        "id": "KkO49JIqxeut"
      }
    },
    {
      "cell_type": "code",
      "source": [
        ""
      ],
      "metadata": {
        "id": "Gl8uQsgjoXhZ"
      },
      "execution_count": null,
      "outputs": []
    },
    {
      "cell_type": "markdown",
      "source": [
        "### Full model"
      ],
      "metadata": {
        "id": "g92QAlQxzLwu"
      }
    },
    {
      "cell_type": "code",
      "source": [
        "def make_model(src_vocab, tgt_vocab, N=6, d_model=512, d_ff=2048, h=8, dropout=0.1):\n",
        "    \"Helper: Construct a model from hyperparameters.\"\n",
        "    dpcp = copy.deepcopy\n",
        "    attn = MultiHeadAttention(h, d_model)\n",
        "    ff = PositionwiseFeedForward(d_model, d_ff, dropout)\n",
        "    position = PositionalEncoding(d_model, dropout)\n",
        "    \n",
        "    enc_l = EncoderLayer(d_model, dpcp(attn), dpcp(ff), dropout)\n",
        "    encoder = Encoder(enc_l, N)\n",
        "    dec_l = DecoderLayer(d_model, dpcp(attn), dpcp(attn), dpcp(ff), dropout)\n",
        "    decoder = Decoder(dec_l, N)\n",
        "    src_embed = nn.Sequential(Embeddings(d_model, src_vocab), dpcp(position))\n",
        "    tgt_embed = nn.Sequential(Embeddings(d_model, tgt_vocab), dpcp(position))\n",
        "    generator = Generator(d_model, tgt_vocab)\n",
        "    \n",
        "    # generate model instance\n",
        "    model = EncoderDecoder(encoder, decoder, src_embed, tgt_embed, generator)\n",
        "    \n",
        "    # Initialize parameters with Glorot / fan_avg.\n",
        "    for params in model.parameters():\n",
        "        if params.dim() > 1:\n",
        "            nn.init.xavier_uniform(params)\n",
        "    return model"
      ],
      "metadata": {
        "id": "2ANOZIHTxjpB"
      },
      "execution_count": null,
      "outputs": []
    },
    {
      "cell_type": "markdown",
      "source": [
        "( [Table of Contents](#scrollTo=OCXuQtk-lXC0)\\ )\n",
        "## Training"
      ],
      "metadata": {
        "id": "99wO8gdYnX1G"
      }
    },
    {
      "cell_type": "code",
      "source": [
        ""
      ],
      "metadata": {
        "id": "wO62_SJdlhjJ"
      },
      "execution_count": null,
      "outputs": []
    }
  ]
}