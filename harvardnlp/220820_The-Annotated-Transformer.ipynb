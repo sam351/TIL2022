{
  "cells": [
    {
      "cell_type": "markdown",
      "metadata": {
        "id": "OCXuQtk-lXC0"
      },
      "source": [
        "(ref : https://nlp.seas.harvard.edu/2018/04/03/attention.html)\n",
        "<br><br>\n",
        "## Table of Contents\n",
        "- [Model Architecture](#scrollTo=7THo9Qx9nVPw)\n",
        "  - Encoder and Decoder Stacks\n",
        "    - Encoder\n",
        "    - Decoder\n",
        "    - Attention\n",
        "    - Applications of Attention in our Model\n",
        "  - Position-wise Feed-Forward Networks\n",
        "  - Embeddings and Softmax\n",
        "  - Positional Encoding\n",
        "  - Full Model\n",
        "\n",
        "- [Training](#scrollTo=99wO8gdYnX1G)\n",
        "  - Batches and Masking\n",
        "  - Training Loop\n",
        "  - Training Data and Batching\n",
        "  - Hardware and Schedule\n",
        "  - Optimizer\n",
        "  - Regularization\n",
        "    - Label Smoothing\n"
      ]
    },
    {
      "cell_type": "code",
      "execution_count": 1,
      "metadata": {
        "id": "n4OBycJzlhen"
      },
      "outputs": [],
      "source": [
        "import numpy as np\n",
        "import torch\n",
        "import torch.nn as nn\n",
        "import torch.nn.functional as F\n",
        "import math, copy, time\n",
        "from torch.autograd import Variable\n",
        "import matplotlib.pyplot as plt\n",
        "import seaborn\n",
        "seaborn.set_context(context='talk')"
      ]
    },
    {
      "cell_type": "markdown",
      "metadata": {
        "id": "7THo9Qx9nVPw"
      },
      "source": [
        "( [Table of Contents](#scrollTo=OCXuQtk-lXC0)\\ )\n",
        "## Model Architecture"
      ]
    },
    {
      "cell_type": "markdown",
      "metadata": {
        "id": "uq4lkf3JwtxU"
      },
      "source": [
        "<img src=\"https://nlp.seas.harvard.edu/images/the-annotated-transformer_14_0.png\" height=500px>"
      ]
    },
    {
      "cell_type": "code",
      "execution_count": 2,
      "metadata": {
        "id": "h7rkzxhutXdW"
      },
      "outputs": [],
      "source": [
        "class EncoderDecoder(nn.Module):\n",
        "    \"\"\"\n",
        "    A standard Encoder-Decoder architecture. Base for this and many other models.\n",
        "    \"\"\"\n",
        "    def __init__(self, encoder, decoder, src_embed, tgt_embed, generator) -> None:\n",
        "        super(EncoderDecoder, self).__init__()\n",
        "        self.encoder = encoder\n",
        "        self.decoder = decoder\n",
        "        self.src_embed = src_embed\n",
        "        self.tgt_embed = tgt_embed\n",
        "        self.generator = generator\n",
        "    \n",
        "    def forward(self, src, tgt, src_mask, tgt_mask):\n",
        "        \"Take in and process masked src and target sequences.\"\n",
        "        memory = self.encode(src, src_mask)\n",
        "        out = self.decode(memory, tgt, src_mask, tgt_mask)\n",
        "        return out\n",
        "    \n",
        "    def encode(self, src, src_mask):\n",
        "        src_embeded = self.src_embed(src)\n",
        "        memory = self.encoder(src_embeded, src_mask)\n",
        "        return memory\n",
        "    \n",
        "    def decode(self, memory, tgt, src_mask, tgt_mask):\n",
        "        tgt_embeded = self.tgt_embed(tgt)\n",
        "        out = self.decoder(tgt_embeded, memory, src_mask, tgt_mask)\n",
        "        return out\n",
        "\n",
        "\n",
        "class Generator(nn.Module):\n",
        "    \"Define standard linear + softmax generation step.\"\n",
        "    def __init__(self, d_model, vocab) -> None:\n",
        "        super(Generator, self).__init__()\n",
        "        self.proj = nn.Linear(d_model, vocab)\n",
        "    \n",
        "    def forward(self, x):\n",
        "        return F.log_softmax(self.proj(x), dim=-1)"
      ]
    },
    {
      "cell_type": "markdown",
      "metadata": {
        "id": "KkO49JIqxeut"
      },
      "source": [
        "### Encoder and Decoder Stacks"
      ]
    },
    {
      "cell_type": "code",
      "execution_count": 3,
      "metadata": {
        "id": "Gl8uQsgjoXhZ"
      },
      "outputs": [],
      "source": [
        "# utils for layers\n",
        "def clones(module, N):\n",
        "    \"Produce N identical layers\"\n",
        "    return nn.ModuleList([copy.deepcopy(module) for _ in range(N)])\n",
        "\n",
        "\n",
        "class LayerNorm(nn.Module):\n",
        "    \"Construct a layernorm module.\"\n",
        "    def __init__(self, features, eps=1e-6) -> None:\n",
        "        super(LayerNorm, self).__init__()\n",
        "        self.a_2 = nn.Parameter(torch.ones(features))\n",
        "        self.b_2 = nn.Parameter(torch.zeros(features))\n",
        "        self.eps = eps\n",
        "    \n",
        "    def forward(self, x):\n",
        "        mean = x.mean(-1, keepdim=True)\n",
        "        std = x.std(-1, keepdim=True)\n",
        "        return self.a_2 * (x-mean) / (std+self.eps) + self.b_2\n",
        "\n",
        "\n",
        "class SublayerConnection(nn.Module):\n",
        "    \"\"\"\n",
        "    A residual connection followed by a layer norm.\n",
        "    Note for code simplicity the norm is first as opposed to last.\n",
        "    \"\"\"\n",
        "    def __init__(self, size, dropout) -> None:\n",
        "        super(SublayerConnection, self).__init__()\n",
        "        self.norm = LayerNorm(size)\n",
        "        self.dropout = nn.Dropout(dropout)\n",
        "    \n",
        "    def forward(self, x, sublayer):\n",
        "        \"Apply residual connection to any sublayer with the same size.\"\n",
        "        return x + self.dropout(sublayer(self.norm(x)))"
      ]
    },
    {
      "cell_type": "code",
      "execution_count": 4,
      "metadata": {
        "id": "hyw7QzQTjoNG"
      },
      "outputs": [],
      "source": [
        "# Encoder\n",
        "class Encoder(nn.Module):\n",
        "    \"Core encoder is a stack of N layers.\"\n",
        "    def __init__(self, layer, N) -> None:\n",
        "        super(Encoder, self).__init__()\n",
        "        self.layers = clones(layer, N)\n",
        "        self.norm = LayerNorm(layer.size)\n",
        "    \n",
        "    def forward(self, x, mask):\n",
        "        \"Pass the input (and mask) through each layer in turn.\"\n",
        "        for layer in self.layers:\n",
        "            x = layer(x, mask)\n",
        "        return self.norm(x)\n",
        "\n",
        "\n",
        "class EncoderLayer(nn.Module):\n",
        "    \"Encoder is made up of self-attn and feed forward\"\n",
        "    def __init__(self, size, self_attn, feed_forward, dropout) -> None:\n",
        "        super(EncoderLayer, self).__init__()\n",
        "        self.self_attn = self_attn\n",
        "        self.feed_forward = feed_forward\n",
        "        self.sublayer = clones(SublayerConnection(size, dropout), 2)\n",
        "        self.size = size\n",
        "    \n",
        "    def forward(self, x, mask):\n",
        "        x = self.sublayer[0](x, lambda x : self.self_attn(x, x, x, mask))\n",
        "        return self.sublayer[1](x, self.feed_forward)"
      ]
    },
    {
      "cell_type": "code",
      "execution_count": 5,
      "metadata": {
        "id": "Feru-U1MjoPz"
      },
      "outputs": [],
      "source": [
        "# Decoder\n",
        "class Decoder(nn.Module):\n",
        "    \"Generic N layer decoder with masking.\"\n",
        "    def __init__(self, layer, N) -> None:\n",
        "        super(Decoder, self).__init__()\n",
        "        self.layers = clones(layer, N)\n",
        "        self.norm = LayerNorm(layer.size)\n",
        "    \n",
        "    def forward(self, memory, x, src_mask, tgt_mask):\n",
        "        for layer in self.layers:\n",
        "            x = layer(memory, x, src_mask, tgt_mask)\n",
        "        return self.norm(x)\n",
        "\n",
        "\n",
        "class DecoderLayer(nn.Module):\n",
        "    \"Decoder is made of self-attn, src-attn, and feed forward.\"\n",
        "    def __init__(self, size, self_attn, src_attn, feed_forward, dropout) -> None:\n",
        "        super(DecoderLayer, self).__init__()\n",
        "        self.self_attn = self_attn\n",
        "        self.src_attn = src_attn\n",
        "        self.feed_forward = feed_forward\n",
        "        self.sublayer = clones(SublayerConnection(size, dropout), 3)\n",
        "        self.size = size\n",
        "    \n",
        "    def forward(self, memory, x, src_mask, tgt_mask):\n",
        "        x = self.sublayer[0](x, lambda x : self.self_attn(x, x, x, tgt_mask))\n",
        "        x = self.sublayer[1](x, lambda x : self.src_attn(x, memory, memory, tgt_mask))\n",
        "        return self.sublayer[2](x, self.feed_forward)\n"
      ]
    },
    {
      "cell_type": "markdown",
      "metadata": {
        "id": "j9VZI2rXEyGF"
      },
      "source": [
        "- Figures for Attention\n",
        "<br><br>\n",
        "<img src=\"https://nlp.seas.harvard.edu/images/the-annotated-transformer_33_0.png\" height=300px> &emsp;&emsp;&emsp;\n",
        "<img src=\"https://nlp.seas.harvard.edu/images/the-annotated-transformer_38_0.png\" height=300px>"
      ]
    },
    {
      "cell_type": "code",
      "execution_count": 6,
      "metadata": {
        "colab": {
          "base_uri": "https://localhost:8080/",
          "height": 389
        },
        "id": "HB5ulJGzjo8e",
        "outputId": "7a5519b0-6c69-4001-b5bc-1d36491670bf"
      },
      "outputs": [
        {
          "name": "stdout",
          "output_type": "stream",
          "text": [
            ">>> subsequent_mask (sample)\n",
            "tensor([[ True, False, False, False, False],\n",
            "        [ True,  True, False, False, False],\n",
            "        [ True,  True,  True, False, False],\n",
            "        [ True,  True,  True,  True, False],\n",
            "        [ True,  True,  True,  True,  True]])\n"
          ]
        },
        {
          "data": {
            "image/png": "[encoded data removed]",
            "text/plain": [
              "<Figure size 432x288 with 1 Axes>"
            ]
          },
          "metadata": {
            "needs_background": "light"
          },
          "output_type": "display_data"
        }
      ],
      "source": [
        "# Attention\n",
        "\n",
        "## subsequent mask for self-attention in decoder\n",
        "def subsequent_mask(size):\n",
        "    \"Mask out subsequent positions.\"\n",
        "    attn_shape = (1, size, size)\n",
        "    mask = np.triu(np.ones(attn_shape), k=1).astype('uint8')\n",
        "    return torch.from_numpy(mask) == 0\n",
        "\n",
        "\n",
        "print('>>> subsequent_mask (sample)')\n",
        "print(subsequent_mask(5)[0])\n",
        "plt.imshow(subsequent_mask(20)[0])\n",
        "plt.show()\n",
        "\n",
        "\n",
        "def attention(query, key, value, mask=None, dropout=None):\n",
        "    \"Compute Scaled Dot Product Attention\"\n",
        "    d_k = query.size(-1)\n",
        "    scores = torch.matmul(query, key.transpose(-2, -1)) / math.sqrt(d_k)\n",
        "    if mask is not None:\n",
        "        scores = scores.masked_fill(mask == 0, -1e9)\n",
        "    p_attn = F.softmax(scores, dim=-1)\n",
        "    if dropout is not None:\n",
        "        scores = dropout(p_attn)\n",
        "    return torch.matmul(p_attn, value), p_attn\n",
        "\n",
        "\n",
        "class MultiHeadAttention(nn.Module):\n",
        "    def __init__(self, n_head, d_model, dropout=0.1) -> None:\n",
        "        \"Take in model size and number of heads\"\n",
        "        super(MultiHeadAttention, self).__init__()\n",
        "        assert d_model % n_head == 0\n",
        "        # We assume d_v always equals d_k\n",
        "        self.d_k = d_model // n_head\n",
        "        self.n_head = n_head\n",
        "        self.linears = clones(nn.Linear(d_model, d_model), 4)\n",
        "        self.attn = None\n",
        "        self.dropout = nn.Dropout(p=dropout)\n",
        "    \n",
        "    def forward(self, query, key, value, mask=None):\n",
        "        if mask is not None:\n",
        "            # Same task applied to all N heads\n",
        "            mask = mask.unsqueeze(1)\n",
        "        n_batches = query.size(0)\n",
        "        # 1) Do all the linear projections in batch from d_model => n_head * d_k\n",
        "        query, key, value = [\n",
        "            ln(x).view(n_batches, -1, self.n_head, self.d_k).transpose(1, 2)\n",
        "            for ln, x in zip(self.linears, (query, key, value))\n",
        "        ]\n",
        "        # 2) Apply attention on all the projected vectors in batch\n",
        "        x, self.attn = attention(query, key, value, mask=mask, dropout=self.dropout)\n",
        "        # 3) \"Concat\" using a view and apply a final linear\n",
        "        x = x.transpose(1, 2).contiguous().view(n_batches, -1, self.n_head*self.d_k)\n",
        "        return self.linears[-1](x)"
      ]
    },
    {
      "cell_type": "code",
      "execution_count": 6,
      "metadata": {
        "id": "AC5hHKeqJB2e"
      },
      "outputs": [],
      "source": []
    },
    {
      "cell_type": "markdown",
      "metadata": {
        "id": "g92QAlQxzLwu"
      },
      "source": [
        "### Full model"
      ]
    },
    {
      "cell_type": "code",
      "execution_count": 7,
      "metadata": {
        "id": "2ANOZIHTxjpB"
      },
      "outputs": [],
      "source": [
        "def make_model(src_vocab, tgt_vocab, N=6, d_model=512, d_ff=2048, h=8, dropout=0.1):\n",
        "    \"Helper: Construct a model from hyperparameters.\"\n",
        "    dpcp = copy.deepcopy\n",
        "    attn = MultiHeadAttention(h, d_model)\n",
        "    ff = PositionwiseFeedForward(d_model, d_ff, dropout)\n",
        "    position = PositionalEncoding(d_model, dropout)\n",
        "    \n",
        "    enc_l = EncoderLayer(d_model, dpcp(attn), dpcp(ff), dropout)\n",
        "    encoder = Encoder(enc_l, N)\n",
        "    dec_l = DecoderLayer(d_model, dpcp(attn), dpcp(attn), dpcp(ff), dropout)\n",
        "    decoder = Decoder(dec_l, N)\n",
        "    src_embed = nn.Sequential(Embeddings(d_model, src_vocab), dpcp(position))\n",
        "    tgt_embed = nn.Sequential(Embeddings(d_model, tgt_vocab), dpcp(position))\n",
        "    generator = Generator(d_model, tgt_vocab)\n",
        "    \n",
        "    # generate model instance\n",
        "    model = EncoderDecoder(encoder, decoder, src_embed, tgt_embed, generator)\n",
        "    \n",
        "    # Initialize parameters with Glorot / fan_avg.\n",
        "    for params in model.parameters():\n",
        "        if params.dim() > 1:\n",
        "            nn.init.xavier_uniform(params)\n",
        "    return model"
      ]
    },
    {
      "cell_type": "markdown",
      "metadata": {
        "id": "99wO8gdYnX1G"
      },
      "source": [
        "( [Table of Contents](#scrollTo=OCXuQtk-lXC0)\\ )\n",
        "## Training"
      ]
    },
    {
      "cell_type": "code",
      "execution_count": 7,
      "metadata": {
        "id": "wO62_SJdlhjJ"
      },
      "outputs": [],
      "source": []
    }
  ],
  "metadata": {
    "colab": {
      "collapsed_sections": [],
      "name": "220820_The-Annotated-Transformer",
      "provenance": []
    },
    "kernelspec": {
      "display_name": "Python 3",
      "name": "python3"
    },
    "language_info": {
      "name": "python"
    }
  },
  "nbformat": 4,
  "nbformat_minor": 0
}
